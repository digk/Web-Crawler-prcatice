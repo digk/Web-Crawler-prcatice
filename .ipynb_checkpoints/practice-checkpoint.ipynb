{
 "cells": [
  {
   "cell_type": "code",
   "execution_count": 10,
   "metadata": {},
   "outputs": [
    {
     "name": "stdout",
     "output_type": "stream",
     "text": [
      "1 3 5 7 9 11 13 15 17 19 21 23 25 27 29 31 33 35 37 39 41 43 45 47 49 51 53 55 57 59 61 63 65 67 69 71 73 75 77 79 81 83 85 87 89 91 93 95 97 99 "
     ]
    }
   ],
   "source": [
    "for i in range(100):\n",
    "    #if i % 2 != 0:\n",
    "    if i % 2 == 1:\n",
    "        print(i, end=\" \")"
   ]
  },
  {
   "cell_type": "code",
   "execution_count": 4,
   "metadata": {},
   "outputs": [
    {
     "name": "stdout",
     "output_type": "stream",
     "text": [
      "你好   我正在学Python    现在需要     修改字符串"
     ]
    }
   ],
   "source": [
    "import string\n",
    "str = \"你好$$$我正在学Python@#@#现在需要&*&*&修改字符串\"\n",
    "for i in str:\n",
    "    if i in string.punctuation:\n",
    "        print(\" \",end=\"\")\n",
    "    else:\n",
    "        print(i, end=\"\")"
   ]
  },
  {
   "cell_type": "code",
   "execution_count": 6,
   "metadata": {},
   "outputs": [
    {
     "name": "stdout",
     "output_type": "stream",
     "text": [
      "你好   我正在学Python    现在需要     修改字符串\n"
     ]
    }
   ],
   "source": [
    "import string\n",
    "str1 = \"你好$$$我正在学Python@#@#现在需要&*&*&修改字符串\"\n",
    "str2 = \"\"\n",
    "for i in str:\n",
    "    if i in string.punctuation:\n",
    "        str2 += \" \"\n",
    "    else:\n",
    "        str2 += i\n",
    "print(str2)"
   ]
  },
  {
   "cell_type": "code",
   "execution_count": 9,
   "metadata": {},
   "outputs": [
    {
     "name": "stdout",
     "output_type": "stream",
     "text": [
      "1x1=1\t\n",
      "1x2=2\t2x2=4\t\n",
      "1x3=3\t2x3=6\t3x3=9\t\n",
      "1x4=4\t2x4=8\t3x4=12\t4x4=16\t\n",
      "1x5=5\t2x5=10\t3x5=15\t4x5=20\t5x5=25\t\n",
      "1x6=6\t2x6=12\t3x6=18\t4x6=24\t5x6=30\t6x6=36\t\n",
      "1x7=7\t2x7=14\t3x7=21\t4x7=28\t5x7=35\t6x7=42\t7x7=49\t\n",
      "1x8=8\t2x8=16\t3x8=24\t4x8=32\t5x8=40\t6x8=48\t7x8=56\t8x8=64\t\n",
      "1x9=9\t2x9=18\t3x9=27\t4x9=36\t5x9=45\t6x9=54\t7x9=63\t8x9=72\t9x9=81\t\n"
     ]
    }
   ],
   "source": [
    "for i in range(1, 10):\n",
    "    for j in range(1, i+1):\n",
    "        #print(j , \"*\" , i , \"=\" , i * j, end = \"    \")\n",
    "        print(\"%dx%d=%d\\t\" % (j, i, i*j), end=\"\")\n",
    "    print()"
   ]
  },
  {
   "cell_type": "code",
   "execution_count": 31,
   "metadata": {},
   "outputs": [
    {
     "name": "stdin",
     "output_type": "stream",
     "text": [
      "请输入月利润（元）： 550000\n"
     ]
    },
    {
     "name": "stdout",
     "output_type": "stream",
     "text": [
      "利润为550000元时，应发放奖金总数为32000元。\n"
     ]
    }
   ],
   "source": [
    "lirun = int(input(\"请输入月利润（元）：\"))\n",
    "if lirun <= 100000:\n",
    "    ticheng = lirun * 0.1\n",
    "elif lirun <= 200000:\n",
    "    ticheng = (lirun - 100000) * 0.075 + 100000 * 0.1\n",
    "elif lirun <= 400000:\n",
    "    ticheng = (lirun - 200000) * 0.05 + 100000 * 0.075 + 100000 * 0.1\n",
    "elif lirun <= 600000:\n",
    "    ticheng = (lirun - 400000) * 0.03 + 200000 * 0.05 + 100000 * 0.075 + 100000 * 0.1\n",
    "elif lirun <= 1000000:\n",
    "    ticheng = (lirun - 600000) * 0.015 + 200000 * 0.03 + 200000 * 0.05 + 100000 * 0.075 + 100000 * 0.1\n",
    "else:\n",
    "    ticheng = (lirun - 1000000) * 0.01 + 400000 * 0.015 + 200000 * 0.03 + 200000 * 0.05 + 100000 * 0.075 + 100000 * 0.1\n",
    "print(f'利润为{lirun}元时，应发放奖金总数为{int(ticheng)}元。')"
   ]
  },
  {
   "cell_type": "code",
   "execution_count": 11,
   "metadata": {},
   "outputs": [
    {
     "name": "stdin",
     "output_type": "stream",
     "text": [
      "净利润： 100000\n"
     ]
    },
    {
     "name": "stdout",
     "output_type": "stream",
     "text": [
      "利润为100000元时，应发放奖金总数为10000元。\n"
     ]
    }
   ],
   "source": [
    "def calcute_profit(i):\n",
    "    arr = [1000000, 600000, 400000, 200000, 100000, 0] # 这应该就是各个分界值，把它们放在列表里面方便访问\n",
    "    rat = [0.01, 0.015, 0.03, 0.05, 0.075, 0.1]  # 这是各个分界值所对应的奖金比例值\n",
    "    r = 0    #这是总奖金的初始值\n",
    "    for idx in range(0, 6):  # 有6个分界，值当然要循环6次\n",
    "        if i > arr[idx]:\n",
    "            r = r + (i - arr[idx]) * rat[idx]\n",
    "            i = arr[idx]\n",
    "    return r\n",
    "i = int(input('净利润：'))\n",
    "profit = calcute_profit(i)\n",
    "print(f'利润为{i}元时，应发放奖金总数为{int(profit)}元。')"
   ]
  },
  {
   "cell_type": "code",
   "execution_count": 4,
   "metadata": {},
   "outputs": [
    {
     "data": {
      "text/plain": [
       "{0: 0, 2: 1, 1: 2, 4: 3, 3: 4}"
      ]
     },
     "execution_count": 4,
     "metadata": {},
     "output_type": "execute_result"
    }
   ],
   "source": [
    "dic = {1:2, 3:4, 4:3, 2:1, 0:0}\n",
    "#list(dic)\n",
    "#sorted(dic)\n",
    "dict(sorted(dic.items(), key = lambda x:x[1]))"
   ]
  },
  {
   "cell_type": "code",
   "execution_count": 12,
   "metadata": {},
   "outputs": [
    {
     "name": "stdout",
     "output_type": "stream",
     "text": [
      "[(0, 0), (2, 1), (1, 2), (4, 3), (3, 4)]\n"
     ]
    }
   ],
   "source": [
    "import operator\n",
    "x = {1:2, 3:4, 4:3, 2:1, 0:0}\n",
    "sorted_x = sorted(x.items(), key = operator.itemgetter(1))\n",
    "print(sorted_x)"
   ]
  },
  {
   "cell_type": "code",
   "execution_count": 5,
   "metadata": {},
   "outputs": [
    {
     "name": "stdout",
     "output_type": "stream",
     "text": [
      "1\n"
     ]
    }
   ],
   "source": [
    "a = 1\n",
    "def fun(a):\n",
    "    a = 2\n",
    "fun(a)\n",
    "print(a) # a = 1"
   ]
  },
  {
   "cell_type": "code",
   "execution_count": 6,
   "metadata": {},
   "outputs": [
    {
     "name": "stdout",
     "output_type": "stream",
     "text": [
      "[1]\n"
     ]
    }
   ],
   "source": [
    "a = []\n",
    "def fun(a):\n",
    "    a.append(1)\n",
    "fun(a)\n",
    "print(a)  # [1]"
   ]
  },
  {
   "cell_type": "code",
   "execution_count": 7,
   "metadata": {},
   "outputs": [
    {
     "name": "stdout",
     "output_type": "stream",
     "text": [
      "bbb\n",
      "aaa\n",
      "aaa\n"
     ]
    }
   ],
   "source": [
    "class Person:\n",
    "    name = \"aaa\"\n",
    "p1 = Person()\n",
    "p2 = Person()\n",
    "p1.name = \"bbb\"\n",
    "print(p1.name)  # \"bbb\"\n",
    "print(p2.name)  # \"aaa\"\n",
    "print(Person.name)  # none  XXX"
   ]
  },
  {
   "cell_type": "code",
   "execution_count": 8,
   "metadata": {},
   "outputs": [
    {
     "name": "stdout",
     "output_type": "stream",
     "text": [
      "[1]\n",
      "[1]\n",
      "[1]\n"
     ]
    }
   ],
   "source": [
    "class Person:\n",
    "    name = []\n",
    "p1 = Person()\n",
    "p2 = Person()\n",
    "\n",
    "p1.name.append(1)\n",
    "print(p1.name)  # [1]\n",
    "print(p2.name)  # [ ]  XXX\n",
    "print(Person.name)  # [ ]  XXX"
   ]
  }
 ],
 "metadata": {
  "kernelspec": {
   "display_name": "Python 3",
   "language": "python",
   "name": "python3"
  },
  "language_info": {
   "codemirror_mode": {
    "name": "ipython",
    "version": 3
   },
   "file_extension": ".py",
   "mimetype": "text/x-python",
   "name": "python",
   "nbconvert_exporter": "python",
   "pygments_lexer": "ipython3",
   "version": "3.7.4"
  }
 },
 "nbformat": 4,
 "nbformat_minor": 4
}
