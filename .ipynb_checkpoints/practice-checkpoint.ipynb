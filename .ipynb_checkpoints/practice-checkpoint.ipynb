{
 "cells": [
  {
   "cell_type": "code",
   "execution_count": 3,
   "metadata": {},
   "outputs": [
    {
     "name": "stdout",
     "output_type": "stream",
     "text": [
      "1 3 5 7 9 11 13 15 17 19 21 23 25 27 29 31 33 35 37 39 41 43 45 47 49 51 53 55 57 59 61 63 65 67 69 71 73 75 77 79 81 83 85 87 89 91 93 95 97 99 "
     ]
    }
   ],
   "source": [
    "for i in range(100):\n",
    "    if i % 2 != 0:\n",
    "        print(i, end=\" \")"
   ]
  },
  {
   "cell_type": "code",
   "execution_count": 4,
   "metadata": {},
   "outputs": [
    {
     "name": "stdout",
     "output_type": "stream",
     "text": [
      "你好   我正在学Python    现在需要     修改字符串"
     ]
    }
   ],
   "source": [
    "import string\n",
    "str = \"你好$$$我正在学Python@#@#现在需要&*&*&修改字符串\"\n",
    "for i in str:\n",
    "    if i in string.punctuation:\n",
    "        print(\" \",end=\"\")\n",
    "    else:\n",
    "        print(i, end=\"\")"
   ]
  },
  {
   "cell_type": "code",
   "execution_count": 6,
   "metadata": {},
   "outputs": [
    {
     "name": "stdout",
     "output_type": "stream",
     "text": [
      "你好   我正在学Python    现在需要     修改字符串\n"
     ]
    }
   ],
   "source": [
    "import string\n",
    "str1 = \"你好$$$我正在学Python@#@#现在需要&*&*&修改字符串\"\n",
    "str2 = \"\"\n",
    "for i in str:\n",
    "    if i in string.punctuation:\n",
    "        str2 += \" \"\n",
    "    else:\n",
    "        str2 += i\n",
    "print(str2)"
   ]
  },
  {
   "cell_type": "code",
   "execution_count": 22,
   "metadata": {},
   "outputs": [
    {
     "name": "stdout",
     "output_type": "stream",
     "text": [
      "1 * 1 = 1    \n",
      "1 * 2 = 2    2 * 2 = 4    \n",
      "1 * 3 = 3    2 * 3 = 6    3 * 3 = 9    \n",
      "1 * 4 = 4    2 * 4 = 8    3 * 4 = 12    4 * 4 = 16    \n",
      "1 * 5 = 5    2 * 5 = 10    3 * 5 = 15    4 * 5 = 20    5 * 5 = 25    \n",
      "1 * 6 = 6    2 * 6 = 12    3 * 6 = 18    4 * 6 = 24    5 * 6 = 30    6 * 6 = 36    \n",
      "1 * 7 = 7    2 * 7 = 14    3 * 7 = 21    4 * 7 = 28    5 * 7 = 35    6 * 7 = 42    7 * 7 = 49    \n",
      "1 * 8 = 8    2 * 8 = 16    3 * 8 = 24    4 * 8 = 32    5 * 8 = 40    6 * 8 = 48    7 * 8 = 56    8 * 8 = 64    \n",
      "1 * 9 = 9    2 * 9 = 18    3 * 9 = 27    4 * 9 = 36    5 * 9 = 45    6 * 9 = 54    7 * 9 = 63    8 * 9 = 72    9 * 9 = 81    \n"
     ]
    }
   ],
   "source": [
    "for i in range(1, 10):\n",
    "    for j in range(1, i+1):\n",
    "        print(j , \"*\" , i , \"=\" , i * j, end = \"    \")\n",
    "    print()"
   ]
  },
  {
   "cell_type": "code",
   "execution_count": 31,
   "metadata": {},
   "outputs": [
    {
     "name": "stdin",
     "output_type": "stream",
     "text": [
      "请输入月利润（元）： 550000\n"
     ]
    },
    {
     "name": "stdout",
     "output_type": "stream",
     "text": [
      "利润为550000元时，应发放奖金总数为32000元。\n"
     ]
    }
   ],
   "source": [
    "lirun = int(input(\"请输入月利润（元）：\"))\n",
    "if lirun <= 100000:\n",
    "    ticheng = lirun * 0.1\n",
    "elif lirun <= 200000:\n",
    "    ticheng = (lirun - 100000) * 0.075 + 100000 * 0.1\n",
    "elif lirun <= 400000:\n",
    "    ticheng = (lirun - 200000) * 0.05 + 100000 * 0.075 + 100000 * 0.1\n",
    "elif lirun <= 600000:\n",
    "    ticheng = (lirun - 400000) * 0.03 + 200000 * 0.05 + 100000 * 0.075 + 100000 * 0.1\n",
    "elif lirun <= 1000000:\n",
    "    ticheng = (lirun - 600000) * 0.015 + 200000 * 0.03 + 200000 * 0.05 + 100000 * 0.075 + 100000 * 0.1\n",
    "else:\n",
    "    ticheng = (lirun - 1000000) * 0.01 + 400000 * 0.015 + 200000 * 0.03 + 200000 * 0.05 + 100000 * 0.075 + 100000 * 0.1\n",
    "print(f'利润为{lirun}元时，应发放奖金总数为{int(ticheng)}元。')"
   ]
  },
  {
   "cell_type": "code",
   "execution_count": null,
   "metadata": {},
   "outputs": [],
   "source": []
  }
 ],
 "metadata": {
  "kernelspec": {
   "display_name": "Python 3",
   "language": "python",
   "name": "python3"
  },
  "language_info": {
   "codemirror_mode": {
    "name": "ipython",
    "version": 3
   },
   "file_extension": ".py",
   "mimetype": "text/x-python",
   "name": "python",
   "nbconvert_exporter": "python",
   "pygments_lexer": "ipython3",
   "version": "3.7.4"
  }
 },
 "nbformat": 4,
 "nbformat_minor": 4
}
